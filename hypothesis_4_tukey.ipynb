{
 "cells": [
  {
   "cell_type": "markdown",
   "metadata": {},
   "source": [
    "## Part 4 - Tukey Range Tests ##\n",
    "\n",
    "A Tukey Range Test can be used to find out *which* data-set is different if we have determined that one of our data-sets has a significant difference (i.e. by using ANOVA to test for a significant difference in mean).\n",
    "\n",
    "If we feed in a set of data-sets that are independant and normally distributed, Tukey's test can identify which pairs of sets are different from each other.\n",
    "\n"
   ]
  },
  {
   "cell_type": "markdown",
   "metadata": {},
   "source": [
    "Source Some Data:"
   ]
  },
  {
   "cell_type": "code",
   "execution_count": 1,
   "metadata": {},
   "outputs": [],
   "source": [
    "#re-use the Store Data from the previous notebook, \"hypothesis_3\"\n",
    "#Store C has been prepared so that is significantly different\n",
    "import numpy as np\n",
    "import pandas as pd\n",
    "storeA = np.genfromtxt(\"storeA.csv\",  delimiter=\",\")\n",
    "storeB = np.genfromtxt(\"storeB.csv\",  delimiter=\",\")\n",
    "storeC = np.genfromtxt(\"storeC_NEW.csv\",  delimiter=\",\")\n"
   ]
  },
  {
   "cell_type": "markdown",
   "metadata": {},
   "source": [
    "The function to perform Tukey's Range Test is `pairwise_tukeyhsd`, which is found in `statsmodel`, not scipy.  \n",
    "\n",
    "Provide the function with  one list of data and a list of labels that identifies the data against sample-sets.  \n",
    "\n",
    "Also, provide the \"p-val\" significance level that is required, i.e. 0.05."
   ]
  },
  {
   "cell_type": "code",
   "execution_count": 20,
   "metadata": {},
   "outputs": [],
   "source": [
    "from statsmodels.stats.multicomp import pairwise_tukeyhsd\n",
    "\n",
    "# Concatenate the the data into a single list / vector\n",
    "vec = np.concatenate((storeA, storeB, storeC),axis=0)\n",
    "# Create a vector of labels aligned to our data\n",
    "labels = ['A'] * len(storeA) + ['B'] * len(storeB) + ['C'] * len(storeC)\n",
    "\n",
    "tukey_results = pairwise_tukeyhsd(vec, labels, 0.05)"
   ]
  },
  {
   "cell_type": "code",
   "execution_count": 23,
   "metadata": {},
   "outputs": [
    {
     "name": "stdout",
     "output_type": "stream",
     "text": [
      "Multiple Comparison of Means - Tukey HSD,FWER=0.05\n",
      "============================================\n",
      "group1 group2 meandiff  lower  upper  reject\n",
      "--------------------------------------------\n",
      "  A      B    -2.5955  -6.7976 1.6066 False \n",
      "  A      C     2.4712   -1.731 6.6733 False \n",
      "  B      C     5.0667   0.8645 9.2688  True \n",
      "--------------------------------------------\n"
     ]
    }
   ],
   "source": [
    "print(tukey_results)"
   ]
  },
  {
   "cell_type": "markdown",
   "metadata": {},
   "source": [
    "This tells us we can *Reject* the Null Hypothesis for Store C vs Store B  -there is a significant difference."
   ]
  },
  {
   "cell_type": "code",
   "execution_count": null,
   "metadata": {},
   "outputs": [],
   "source": []
  }
 ],
 "metadata": {
  "kernelspec": {
   "display_name": "Python 3",
   "language": "python",
   "name": "python3"
  },
  "language_info": {
   "codemirror_mode": {
    "name": "ipython",
    "version": 3
   },
   "file_extension": ".py",
   "mimetype": "text/x-python",
   "name": "python",
   "nbconvert_exporter": "python",
   "pygments_lexer": "ipython3",
   "version": "3.6.4"
  }
 },
 "nbformat": 4,
 "nbformat_minor": 2
}
