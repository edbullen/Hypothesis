{
 "cells": [
  {
   "cell_type": "markdown",
   "metadata": {},
   "source": [
    "## Part 5 - Binomial Test ##\n",
    "\n",
    "If we need to decide whether a count of binary outcomes shows a significant variation from the *expected* outcome, we can use a Binomial Test.  \n",
    "\n",
    "A Binomial Test compares a categorical dataset to some expectation - for example \n",
    "+ Comparing the actual number of heads from 1000 coin flips of a weighted coin to the expected number of heads\n",
    "+ Comparing the actual percentage of respondents who gave a certain survey response to the expected survey response\n",
    "  \n",
    "The null hypothesis is that there is no (statistically significant) difference between the observed behavior and the expected behavior. If we get a p-value of less than 0.05, we can reject that hypothesis and determine that there is a difference between the observation and expectation."
   ]
  },
  {
   "cell_type": "markdown",
   "metadata": {},
   "source": [
    "The SciPy function for Binomial Testing is `binom_test`.  This requires 3 inputs:  \n",
    "+ number of observed sucesses / positive outcomes  \n",
    "+ total number of trials / events  \n",
    "+ Expected probability of sucesses / positive outcomes  \n",
    "  \n",
    "  \n"
   ]
  },
  {
   "cell_type": "markdown",
   "metadata": {},
   "source": [
    "#### Example 1 - Is the coin weighted? ####\n",
    "Throw a coin 1000 times; we expect to get a head 50% of the time, i.e. 500 positive outcomes.   \n",
    "\n",
    "Do we think the coin is weighted if we get 650 heads?"
   ]
  },
  {
   "cell_type": "code",
   "execution_count": 8,
   "metadata": {},
   "outputs": [
    {
     "name": "stdout",
     "output_type": "stream",
     "text": [
      "1.0\n",
      "1.6156310386976815e-21\n"
     ]
    }
   ],
   "source": [
    "from scipy.stats import binom_test\n",
    "\n",
    "pval_exactly_50pct = binom_test(500,n=1000,p=0.5)\n",
    "pval_650_heads = binom_test(650,n=1000,p=0.5)\n",
    "print(pval_exactly_50pct)\n",
    "print(pval_650_heads)"
   ]
  },
  {
   "cell_type": "markdown",
   "metadata": {},
   "source": [
    "...so that is a resounding YES - we reject the NULL hypothesis for 650 heads out of 1000 ... we think there is something wrong with the coin!"
   ]
  },
  {
   "cell_type": "markdown",
   "metadata": {},
   "source": [
    "#### Example 1, part 2 - reduce the number of coin throws####\n",
    "If we reduce the number of coin throws to 10 but still get the same percentage of positive outcomes, what is the effect:"
   ]
  },
  {
   "cell_type": "code",
   "execution_count": 9,
   "metadata": {},
   "outputs": [
    {
     "name": "stdout",
     "output_type": "stream",
     "text": [
      "0.3437499999999999\n"
     ]
    }
   ],
   "source": [
    "pval = binom_test(7,n=10,p=0.5)\n",
    "\n",
    "print(pval)"
   ]
  },
  {
   "cell_type": "markdown",
   "metadata": {},
   "source": [
    "...so even if we get 7 heads out of 10 throws, there is nothing to be suspicious about."
   ]
  },
  {
   "cell_type": "markdown",
   "metadata": {},
   "source": [
    "#### Example 2 - Customer Purchases after visiting Web-Site ####\n",
    "This is taken from Codecademy:\n",
    "\n",
    "Imagine that we are analyzing the percentage of customers who make a purchase after visiting a website. We have a set of 1000 customers from this month, 58 of whom made a purchase. Over the past year, the number of visitors per every 1000 who make a purchase hovers consistently at around 72. Thus, our marketing department has set our target number of purchases per 1000 visits to be 72. We would like to know if this month's number, 58, is a significant difference from that target or a result of natural fluctuations."
   ]
  },
  {
   "cell_type": "code",
   "execution_count": 14,
   "metadata": {},
   "outputs": [
    {
     "name": "stdout",
     "output_type": "stream",
     "text": [
      "0.09813\n"
     ]
    }
   ],
   "source": [
    "#\n",
    "n = 1000\n",
    "expected_pct = 72/1000\n",
    "actual = 58\n",
    "\n",
    "pval = binom_test(actual,n=n, p=expected_pct)\n",
    "print(pval.round(5))"
   ]
  },
  {
   "cell_type": "markdown",
   "metadata": {},
   "source": [
    "There is a greater than 5% likelihood of this variation occuring by chance, we accept the Null Hypothesis and assume no significant difference."
   ]
  },
  {
   "cell_type": "code",
   "execution_count": null,
   "metadata": {},
   "outputs": [],
   "source": []
  }
 ],
 "metadata": {
  "kernelspec": {
   "display_name": "Python 3",
   "language": "python",
   "name": "python3"
  },
  "language_info": {
   "codemirror_mode": {
    "name": "ipython",
    "version": 3
   },
   "file_extension": ".py",
   "mimetype": "text/x-python",
   "name": "python",
   "nbconvert_exporter": "python",
   "pygments_lexer": "ipython3",
   "version": "3.6.4"
  }
 },
 "nbformat": 4,
 "nbformat_minor": 2
}
