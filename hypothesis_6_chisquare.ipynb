{
 "cells": [
  {
   "cell_type": "markdown",
   "metadata": {},
   "source": [
    "### Part 6 - Chi Square Test ##\n",
    "\n",
    "The Pearson Chi-Square test can be used to test for significant differences between groups where multiple factors are involved in the outcome - i.e. a comparison of survey responses (\"A\" vs \"B\") for some people who have been given one of *two* sets of information (such as \"true\" info and \"false\" info, for example).   \n",
    "\n",
    "The Chi-Square takes a contingency table input similar to the following:\n",
    "\n",
    "```\n",
    "      | A   |  B\n",
    "-----------------\n",
    "true  | 30  | 10\n",
    "false | 20  | 20\n",
    "```\n",
    "\n",
    "... so it looks like giving people false information skews the result by 10/40 or 25% in this example.  \n",
    "  \n",
    "The Contingency Table can have as many columns and rows as necessary.\n",
    "\n",
    "+ Rows = Outcomes\n",
    "+ Columns = Conditions"
   ]
  },
  {
   "cell_type": "markdown",
   "metadata": {},
   "source": [
    "Use the SciPy Stats chi2_contingency function to perform a Chi Square test:    "
   ]
  },
  {
   "cell_type": "code",
   "execution_count": 7,
   "metadata": {},
   "outputs": [
    {
     "name": "stdout",
     "output_type": "stream",
     "text": [
      "0.03767\n"
     ]
    }
   ],
   "source": [
    "from scipy.stats import chi2_contingency\n",
    "\n",
    "X = [[30,10],\n",
    "     [20,20]]\n",
    "\n",
    "chi2, pval, dof, expected = chi2_contingency(X)\n",
    "print(pval.round(5))"
   ]
  },
  {
   "cell_type": "markdown",
   "metadata": {},
   "source": [
    "On the basis of this we *Accept the Null Hypothesis* and say this variation could have occured by chance.\n",
    "  \n",
    "What if we got the same ratio difference for a larger sample?"
   ]
  },
  {
   "cell_type": "code",
   "execution_count": 13,
   "metadata": {},
   "outputs": [
    {
     "name": "stdout",
     "output_type": "stream",
     "text": [
      "4.832154459214226e-13\n"
     ]
    }
   ],
   "source": [
    "X = [[300,100],\n",
    "     [200,200]]\n",
    "\n",
    "chi2, pval, dof, expected = chi2_contingency(X)\n",
    "print(pval)"
   ]
  },
  {
   "cell_type": "markdown",
   "metadata": {},
   "source": [
    "...we can be pretty sure that this is a significant difference and we definitely *Reject the Null Hypothesis*."
   ]
  },
  {
   "cell_type": "markdown",
   "metadata": {},
   "source": [
    "#### Example from CodeCademy ####\n",
    "\n",
    "The management at the VeryAnts ant store wants to know if their two most popular species of ants, the Leaf Cutter and the Harvester, vary in popularity between 1st, 2nd, and 3rd graders.\n",
    "  \n",
    "We have created a table representing the different ants bought by the children in grades 1, 2, and 3 after the last big field trip to VeryAnts. Run the code to see what happens when we enter this table into SciPy's chi-square test.\n",
    "   \n",
    "Does the resulting p-value mean that we should reject or accept the null hypothesis?"
   ]
  },
  {
   "cell_type": "code",
   "execution_count": 15,
   "metadata": {},
   "outputs": [
    {
     "name": "stdout",
     "output_type": "stream",
     "text": [
      "0.15508230807673704\n"
     ]
    }
   ],
   "source": [
    "from scipy.stats import chi2_contingency\n",
    "\n",
    "# Contingency table\n",
    "#         harvester |  leaf cutter\n",
    "# ----+------------------+------------\n",
    "# 1st gr | 30       |  10\n",
    "# 2nd gr | 35       |  5\n",
    "# 3rd gr | 28       |  12\n",
    "\n",
    "X = [[30, 10],\n",
    "     [35, 5],\n",
    "     [28, 12]]\n",
    "chi2, pval, dof, expected = chi2_contingency(X)\n",
    "print(pval)"
   ]
  },
  {
   "cell_type": "markdown",
   "metadata": {},
   "source": [
    "On the basis of this we Accept the Null Hypothesis - we tell management that there is *no significant difference in popularity for these ants between 1st, 2nd, 3rd grade pupils *"
   ]
  },
  {
   "cell_type": "code",
   "execution_count": null,
   "metadata": {},
   "outputs": [],
   "source": []
  }
 ],
 "metadata": {
  "kernelspec": {
   "display_name": "Python 3",
   "language": "python",
   "name": "python3"
  },
  "language_info": {
   "codemirror_mode": {
    "name": "ipython",
    "version": 3
   },
   "file_extension": ".py",
   "mimetype": "text/x-python",
   "name": "python",
   "nbconvert_exporter": "python",
   "pygments_lexer": "ipython3",
   "version": "3.6.4"
  }
 },
 "nbformat": 4,
 "nbformat_minor": 2
}
