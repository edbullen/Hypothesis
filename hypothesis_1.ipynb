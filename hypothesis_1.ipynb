{
 "cells": [
  {
   "cell_type": "markdown",
   "metadata": {},
   "source": [
    "## Part 1 - 1 Sample T-Test##\n",
    "\n",
    "#### Background ###\n",
    "Classical hypothesis testing is concerned with deciding between two decisions (it is more complicated if there’s more than two). \n",
    "+ The first, a Null Hypothesis is specified that represents the status quo. This hypothesis is usually labeled, $H_{0}$. This is what we assume by default.  In a practical sense, this would mean that there is no significant difference between the data-set being assessed and the general population.\n",
    "+ The Alternative or research hypothesis is what we require evidence to conclude.  This hypothesis is usually labeled $H_{a}$ or sometimes $H_{1}$ (or some other number other than 0). \n",
    "\n",
    "There is a great video from Khan Academy they introduces Hyptothesis Testing here:  \n",
    "https://www.youtube.com/watch?v=KS6KEWaoOOE  \n",
    "\n",
    "The convention for Hypothesis testing is to define a value \"**alpha**\" or $\\alpha$ which is the *probability threshold* for which we accept ot reject the Null Hypothesis.  This is also known as the \"Significance Level\".\n",
    "  \n",
    "By convention a value of 0.05 (5%) is chosen for $\\alpha$, although sometimes this can be set to $\\alpha$ = 0.01 if we want more certainty.\n",
    "\n",
    "We then need to calculate the **p-value**, which is the estimated probability of getting this sample by chance (from the population we are comparing against).\n",
    "\n",
    "+ If the p-value is *less* than $\\alpha$ then we *reject* the Null Hypothesis, $H_{0}$ and assume that is unlikely that the variance in the mean of our sample occured by chance.  There is a statistically significant difference.\n",
    "+ If the p-value is *greater* than $\\alpha$ then we \"accept\" the Null Hypothesis (or at least, we cannot reject it) and assume there is a reasonable chance the variation in our test result could have occured by chance.\n",
    "\n",
    "These code examples are taken from Codecademy with some minor updates - https://www.codecademy.com/courses/learn-scipy-hypothesis-testing/lessons/hypothesis-testing/exercises/one-sample-t-test-ii"
   ]
  },
  {
   "cell_type": "markdown",
   "metadata": {},
   "source": [
    "### Use Python scipy to test for Statisical Significance ###\n",
    "\n",
    "The `scipy.stats` function `ttest_1samp` can be used to calculate a T-statistic and a P-value for a given *mean* value compared to a sample population.\n",
    "\n",
    "If we supply a mean value and a refence sample set of data, if the p-value is less than our chosen $\\alpha$ (i.e. 0.05) then we infer that our mean value is not likely to occur by chance in this sample population.  There is a statistically significant difference.\n",
    "\n",
    "\n",
    "**Scipy ttest_1samp Description**  \n",
    "`ttest_1samp` calculates a univariate T-test.  \n",
    "*This is a two-sided test for the null hypothesis that the expected value (mean) of a sample of independent observations a is equal to the given population mean, popmean.*\n",
    "\n"
   ]
  },
  {
   "cell_type": "code",
   "execution_count": 2,
   "metadata": {},
   "outputs": [],
   "source": [
    "from scipy.stats import ttest_1samp\n",
    "import numpy as np"
   ]
  },
  {
   "cell_type": "markdown",
   "metadata": {},
   "source": [
    "Source an \"age of visitors\" CSV"
   ]
  },
  {
   "cell_type": "code",
   "execution_count": 3,
   "metadata": {},
   "outputs": [
    {
     "name": "stdout",
     "output_type": "stream",
     "text": [
      "[32. 34. 29. 29. 22. 39. 38. 37. 38. 36. 30. 26. 22. 22.]\n"
     ]
    }
   ],
   "source": [
    "ages = np.genfromtxt(\"ages.csv\")\n",
    "print(ages)"
   ]
  },
  {
   "cell_type": "markdown",
   "metadata": {},
   "source": [
    "Calculate the Mean of the ages"
   ]
  },
  {
   "cell_type": "code",
   "execution_count": 4,
   "metadata": {},
   "outputs": [
    {
     "name": "stdout",
     "output_type": "stream",
     "text": [
      "31.0\n"
     ]
    }
   ],
   "source": [
    "mu = np.mean(ages)\n",
    "print(mu)"
   ]
  },
  {
   "cell_type": "markdown",
   "metadata": {},
   "source": [
    "Use scipy T-Test to find the p-value for an age of 30 and also for an age of 3 given the \"ages\" distribution:\n"
   ]
  },
  {
   "cell_type": "code",
   "execution_count": 5,
   "metadata": {},
   "outputs": [
    {
     "name": "stdout",
     "output_type": "stream",
     "text": [
      "Age 30 Ttest_1sampResult(statistic=0.5973799001456603, pvalue=0.5605155888171379)\n",
      "Age 3 Ttest_1sampResult(statistic=16.72663720407849, pvalue=3.574863924479613e-10)\n"
     ]
    }
   ],
   "source": [
    "print(\"Age 30\", ttest_1samp(ages,30))\n",
    "print(\"Age 3\", ttest_1samp(ages,3))\n"
   ]
  },
  {
   "cell_type": "markdown",
   "metadata": {},
   "source": [
    "The P-Value is the second value - * this is the estimated probability of achieving this value by chance * from the sample set.  \n",
    "\n",
    "Generally, if we receive a *p-value of less than 0.05, we can reject the null hypothesis and state that there is a significant difference*."
   ]
  },
  {
   "cell_type": "markdown",
   "metadata": {},
   "source": [
    "For the aget of 30 we got a p-value that was much higher than 0.05, so we cannot reject the null hypothesis.  This means a mean age of 30 could occur by chance for this population (even though our comparison has  a mean of 31).   \n",
    "   \n",
    "For the other example, for the age of 3 we got a tiny p-value; this would be a very unusal age based on the orignal sample - if we had a set of visitors with average age 3, something special is going on."
   ]
  },
  {
   "cell_type": "markdown",
   "metadata": {},
   "source": [
    "*Does this mean that if we wait for more visitors, the average age would definitely be 30 and not 31? Not necessarily. In fact, in this case, we know that the mean of our sample was 31.*  \n",
    "+ P-values give us an idea of how confident we can be in a result.  \n",
    "+ Just because we don’t have enough data to detect a difference doesn’t mean that there isn’t one. "
   ]
  },
  {
   "cell_type": "code",
   "execution_count": null,
   "metadata": {},
   "outputs": [],
   "source": []
  }
 ],
 "metadata": {
  "kernelspec": {
   "display_name": "Python 3",
   "language": "python",
   "name": "python3"
  },
  "language_info": {
   "codemirror_mode": {
    "name": "ipython",
    "version": 3
   },
   "file_extension": ".py",
   "mimetype": "text/x-python",
   "name": "python",
   "nbconvert_exporter": "python",
   "pygments_lexer": "ipython3",
   "version": "3.6.4"
  }
 },
 "nbformat": 4,
 "nbformat_minor": 2
}
