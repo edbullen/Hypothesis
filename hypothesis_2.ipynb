{
 "cells": [
  {
   "cell_type": "markdown",
   "metadata": {},
   "source": [
    "## Part 2 - Two Sample T Test ##\n",
    "https://www.codecademy.com/courses/learn-scipy-hypothesis-testing/lessons/hypothesis-testing/exercises/two-sample-t-test\n",
    "\n",
    "*Suppose that last week, the average amount of time spent per visitor to a website was 25 minutes. This week, the average amount of time spent per visitor to a website was 28 minutes. Did the average time spent per visitor change? Or is this part of natural fluctuations?*"
   ]
  },
  {
   "cell_type": "markdown",
   "metadata": {},
   "source": [
    "Use a **2 Sample T-Test**  \n",
    "A 2 Sample T-Test compares two independant sets of data, which are both approximately normally distributed.  \n",
    "The null hypothesis, in this case, is that the two distributions have the same mean (give or take some statisical random variation).  \n",
    "   \n",
    "To decide if the data-sets are roughly normally distributed, often a visual inspection is enough, as shown in the chart below.  Alternatively the Sapiro-Wilk test can be used: https://docs.scipy.org/doc/scipy/reference/generated/scipy.stats.shapiro.html"
   ]
  },
  {
   "cell_type": "code",
   "execution_count": 10,
   "metadata": {},
   "outputs": [
    {
     "data": {
      "image/png": "[encoded data removed]",
      "text/plain": [
       "<matplotlib.figure.Figure at 0x16f983d6be0>"
      ]
     },
     "metadata": {},
     "output_type": "display_data"
    }
   ],
   "source": [
    "import numpy as np\n",
    "import matplotlib.pyplot as plt\n",
    "\n",
    "plt.hist(week1, bins=20, color='b', alpha=0.5)\n",
    "plt.hist(week2, bins=20, color='r', alpha=0.5)\n",
    "plt.show()"
   ]
  },
  {
   "cell_type": "markdown",
   "metadata": {},
   "source": [
    "use SciPy's `ttest_ind` to obtain the p-value for two independant sets of data and determine the likelihood of them having the same mean."
   ]
  },
  {
   "cell_type": "code",
   "execution_count": 11,
   "metadata": {},
   "outputs": [
    {
     "name": "stdout",
     "output_type": "stream",
     "text": [
      "Week 1 Sample Mean: 25.4480593952\n",
      "Week 2 Sample Mean: 29.0215681076\n",
      "Ttest_indResult(statistic=-3.510875818698744, pvalue=0.000676767690454633)\n"
     ]
    }
   ],
   "source": [
    "from scipy.stats import ttest_ind\n",
    "import numpy as np\n",
    "\n",
    "week1 = np.genfromtxt(\"week1.csv\",  delimiter=\",\")\n",
    "week2 = np.genfromtxt(\"week2.csv\",  delimiter=\",\")\n",
    "\n",
    "week1_mean = week1.mean()\n",
    "week2_mean = week2.mean()\n",
    "\n",
    "print(\"Week 1 Sample Mean:\", week1_mean)\n",
    "print(\"Week 2 Sample Mean:\", week2_mean)\n",
    "\n",
    "pval = ttest_ind(week1,week2)\n",
    "print(pval)"
   ]
  },
  {
   "cell_type": "markdown",
   "metadata": {},
   "source": [
    "If we assume $\\alpha$ is 0.005 and we get a `pvalue=0.0006767...` means we reject the null-hypothesis and say this is a different distribution and the mean is significantly different.\n",
    "\n"
   ]
  },
  {
   "cell_type": "code",
   "execution_count": 12,
   "metadata": {},
   "outputs": [
    {
     "name": "stdout",
     "output_type": "stream",
     "text": [
      "pval is  0.000676767690454633 Null Hypothesis Rejected - samples are statistically different\n"
     ]
    }
   ],
   "source": [
    "if pval[1] < 0.05:\n",
    "    print(\"pval is \", pval[1], \"Null Hypothesis Rejected - samples are statistically different\")\n",
    "else:\n",
    "    print(\"pval is \", pval[1], \"Null Hypothesis Accepted - samples are NOT statistically different\")"
   ]
  },
  {
   "cell_type": "markdown",
   "metadata": {},
   "source": [
    "## Dangers of Multiple T-Tests ##\n",
    "(taken from Codecademy)\n",
    "Suppose that we own a chain of stores that sell ants, called VeryAnts. There are three different locations: A, B, and C. We want to know if the average ant sales over the past year are significantly different between the three locations.  \n",
    "\n",
    "At first, it seems that we could perform T-tests between each pair of stores.   \n",
    "\n",
    "We know that the p-value is the probability that we incorrectly reject the null hypothesis on each t-test. The more t-tests we perform, the more likely that we are to get a false positive, a Type I error.   \n",
    "\n",
    "For a p-value of 0.05, if the null hypothesis is true then the probability of obtaining a significant result is  \n",
    "`1 – 0.05 = 0.95.  `  \n",
    "  \n",
    "When we run another t-test, the probability of still getting a correct result is  \n",
    "`0.95 * 0.95 = 0.9025`  \n",
    "That means our probability of making an error is now close to 10%! This error probability only gets bigger with the more t-tests we do."
   ]
  }
 ],
 "metadata": {
  "kernelspec": {
   "display_name": "Python 3",
   "language": "python",
   "name": "python3"
  },
  "language_info": {
   "codemirror_mode": {
    "name": "ipython",
    "version": 3
   },
   "file_extension": ".py",
   "mimetype": "text/x-python",
   "name": "python",
   "nbconvert_exporter": "python",
   "pygments_lexer": "ipython3",
   "version": "3.6.4"
  }
 },
 "nbformat": 4,
 "nbformat_minor": 2
}
